{
  "cells": [
    {
      "cell_type": "code",
      "execution_count": null,
      "id": "e2108d76",
      "metadata": {
        "id": "e2108d76"
      },
      "outputs": [],
      "source": [
        "!pip install sqlalchemy\n",
        "!pip install ipython-sql\n",
        "!pip intsall pyodbc"
      ]
    },
    {
      "cell_type": "code",
      "execution_count": null,
      "id": "827cea9d",
      "metadata": {
        "ExecuteTime": {
          "end_time": "2023-08-04T12:30:49.518918Z",
          "start_time": "2023-08-04T12:30:49.453119Z"
        },
        "id": "827cea9d"
      },
      "outputs": [],
      "source": [
        "from sqlalchemy import create_engine\n",
        "import os\n",
        "from urllib.parse import quote_plus\n",
        "\n",
        "username = os.environ.get('MSSQLUSER')\n",
        "password = os.environ.get('MSSQLPASS')\n",
        "server_name = os.environ.get('MSSQLSERVER')\n",
        "database_name = \"AdventureWorksDW2022\"\n",
        "DSN = \"MyDSN\"\n",
        "\n",
        "quoted_password = quote_plus(password)\n",
        "\n",
        "# Construct the connection URL\n",
        "connection_url = f\"mssql+pyodbc://{username}:{quoted_password}@{server_name}/{database_name}?driver=ODBC Driver 17 for SQL Server\"\n",
        "# connection_url2 = f\"mssql+pyodbc://sa:f{username}@{DSN}\"\n",
        "\n",
        "engine = create_engine(connection_url)\n",
        "connection = engine.connect()"
      ]
    },
    {
      "cell_type": "code",
      "execution_count": null,
      "id": "468b7b3b",
      "metadata": {
        "ExecuteTime": {
          "end_time": "2023-08-05T04:04:16.800566Z",
          "start_time": "2023-08-05T04:04:16.474277Z"
        },
        "id": "468b7b3b",
        "outputId": "00e07c48-45d9-47a1-c6a7-f47fb7759a5d"
      },
      "outputs": [
        {
          "name": "stdout",
          "output_type": "stream",
          "text": [
            "AdventureWorksDWBuildVersion, DatabaseLog, DimAccount, DimCurrency, DimCustomer, DimDate, DimDepartmentGroup, DimEmployee, DimGeography, DimOrganization, DimProduct, DimProductCategory, DimProductSubcategory, DimPromotion, DimReseller, DimSalesReason, DimSalesTerritory, DimScenario, FactAdditionalInternationalProductDescription, FactCallCenter, FactCurrencyRate, FactFinance, FactInternetSales, FactInternetSalesReason, FactProductInventory, FactResellerSales, FactSalesQuota, FactSurveyResponse, NewFactCurrencyRate, ProspectiveBuyer, sysdiagrams, "
          ]
        }
      ],
      "source": [
        "from sqlalchemy import inspect\n",
        "inspector = inspect(engine)\n",
        "for table in inspector.get_table_names():\n",
        "    print(table, end=', ')"
      ]
    },
    {
      "cell_type": "code",
      "execution_count": null,
      "id": "647ad989",
      "metadata": {
        "ExecuteTime": {
          "end_time": "2023-08-04T12:50:40.111734Z",
          "start_time": "2023-08-04T12:50:40.093127Z"
        },
        "id": "647ad989"
      },
      "outputs": [],
      "source": [
        "import pandas as pd"
      ]
    },
    {
      "cell_type": "markdown",
      "id": "a287bf1c",
      "metadata": {
        "id": "a287bf1c"
      },
      "source": [
        "### Retrieve a list of all products and their corresponding categories."
      ]
    },
    {
      "cell_type": "code",
      "execution_count": null,
      "id": "dcb5e249",
      "metadata": {
        "ExecuteTime": {
          "end_time": "2023-08-04T12:49:13.406889Z",
          "start_time": "2023-08-04T12:49:13.375920Z"
        },
        "id": "dcb5e249",
        "outputId": "aa7e2ebc-9892-47db-8040-e1befe579810"
      },
      "outputs": [
        {
          "name": "stdout",
          "output_type": "stream",
          "text": [
            "['ProductKey', 'ProductAlternateKey', 'ProductSubcategoryKey', 'WeightUnitMeasureCode', 'SizeUnitMeasureCode', 'EnglishProductName', 'SpanishProductName', 'FrenchProductName', 'StandardCost', 'FinishedGoodsFlag', 'Color', 'SafetyStockLevel', 'ReorderPoint', 'ListPrice', 'Size', 'SizeRange', 'Weight', 'DaysToManufacture', 'ProductLine', 'DealerPrice', 'Class', 'Style', 'ModelName', 'LargePhoto', 'EnglishDescription', 'FrenchDescription', 'ChineseDescription', 'ArabicDescription', 'HebrewDescription', 'ThaiDescription', 'GermanDescription', 'JapaneseDescription', 'TurkishDescription', 'StartDate', 'EndDate', 'Status']\n"
          ]
        }
      ],
      "source": [
        "result = connection.execute('select * from DimProduct')\n",
        "print(result.keys())"
      ]
    },
    {
      "cell_type": "code",
      "execution_count": null,
      "id": "3352d31e",
      "metadata": {
        "ExecuteTime": {
          "end_time": "2023-08-04T12:49:45.207116Z",
          "start_time": "2023-08-04T12:49:45.092928Z"
        },
        "id": "3352d31e",
        "outputId": "7e01930d-6bbe-4178-ce62-2cfadb060c4e"
      },
      "outputs": [
        {
          "name": "stdout",
          "output_type": "stream",
          "text": [
            "['ProductCategoryKey', 'ProductCategoryAlternateKey', 'EnglishProductCategoryName', 'SpanishProductCategoryName', 'FrenchProductCategoryName']\n"
          ]
        }
      ],
      "source": [
        "result = connection.execute('select * from DimProductCategory')\n",
        "print(result.keys())"
      ]
    },
    {
      "cell_type": "code",
      "execution_count": null,
      "id": "ba78fa8c",
      "metadata": {
        "ExecuteTime": {
          "end_time": "2023-08-04T12:58:14.102898Z",
          "start_time": "2023-08-04T12:58:14.044344Z"
        },
        "id": "ba78fa8c",
        "outputId": "2aec3b03-4b41-4603-aa00-97196e9d223b"
      },
      "outputs": [
        {
          "name": "stdout",
          "output_type": "stream",
          "text": [
            "['ProductSubcategoryKey', 'ProductSubcategoryAlternateKey', 'EnglishProductSubcategoryName', 'SpanishProductSubcategoryName', 'FrenchProductSubcategoryName', 'ProductCategoryKey']\n"
          ]
        }
      ],
      "source": [
        "result = connection.execute('select * from DimProductSubcategory')\n",
        "print(result.keys())"
      ]
    },
    {
      "cell_type": "code",
      "execution_count": null,
      "id": "5d01c2c1",
      "metadata": {
        "ExecuteTime": {
          "end_time": "2023-08-04T13:02:34.847616Z",
          "start_time": "2023-08-04T13:02:34.824409Z"
        },
        "id": "5d01c2c1",
        "outputId": "7674f786-1b61-41e3-c676-f6ef77ea0fb4"
      },
      "outputs": [
        {
          "data": {
            "text/html": [
              "<div>\n",
              "<style scoped>\n",
              "    .dataframe tbody tr th:only-of-type {\n",
              "        vertical-align: middle;\n",
              "    }\n",
              "\n",
              "    .dataframe tbody tr th {\n",
              "        vertical-align: top;\n",
              "    }\n",
              "\n",
              "    .dataframe thead th {\n",
              "        text-align: right;\n",
              "    }\n",
              "</style>\n",
              "<table border=\"1\" class=\"dataframe\">\n",
              "  <thead>\n",
              "    <tr style=\"text-align: right;\">\n",
              "      <th></th>\n",
              "      <th>ProductKey</th>\n",
              "      <th>EnglishProductName</th>\n",
              "      <th>EnglishProductCategoryName</th>\n",
              "      <th>EnglishProductSubcategoryName</th>\n",
              "    </tr>\n",
              "  </thead>\n",
              "  <tbody>\n",
              "    <tr>\n",
              "      <th>0</th>\n",
              "      <td>1</td>\n",
              "      <td>Adjustable Race</td>\n",
              "      <td>None</td>\n",
              "      <td>None</td>\n",
              "    </tr>\n",
              "    <tr>\n",
              "      <th>1</th>\n",
              "      <td>2</td>\n",
              "      <td>Bearing Ball</td>\n",
              "      <td>None</td>\n",
              "      <td>None</td>\n",
              "    </tr>\n",
              "    <tr>\n",
              "      <th>2</th>\n",
              "      <td>3</td>\n",
              "      <td>BB Ball Bearing</td>\n",
              "      <td>None</td>\n",
              "      <td>None</td>\n",
              "    </tr>\n",
              "    <tr>\n",
              "      <th>3</th>\n",
              "      <td>4</td>\n",
              "      <td>Headset Ball Bearings</td>\n",
              "      <td>None</td>\n",
              "      <td>None</td>\n",
              "    </tr>\n",
              "    <tr>\n",
              "      <th>4</th>\n",
              "      <td>5</td>\n",
              "      <td>Blade</td>\n",
              "      <td>None</td>\n",
              "      <td>None</td>\n",
              "    </tr>\n",
              "  </tbody>\n",
              "</table>\n",
              "</div>"
            ],
            "text/plain": [
              "   ProductKey     EnglishProductName EnglishProductCategoryName  \\\n",
              "0           1        Adjustable Race                       None   \n",
              "1           2           Bearing Ball                       None   \n",
              "2           3        BB Ball Bearing                       None   \n",
              "3           4  Headset Ball Bearings                       None   \n",
              "4           5                  Blade                       None   \n",
              "\n",
              "  EnglishProductSubcategoryName  \n",
              "0                          None  \n",
              "1                          None  \n",
              "2                          None  \n",
              "3                          None  \n",
              "4                          None  "
            ]
          },
          "execution_count": 41,
          "metadata": {},
          "output_type": "execute_result"
        }
      ],
      "source": [
        "query = \"\"\"\n",
        "select P.ProductKey, P.EnglishProductName, PC.EnglishProductCategoryName, PSC.EnglishProductSubcategoryName\n",
        "from DimProduct P\n",
        "left join DimProductSubcategory PSC on P.ProductSubcategoryKey=PSC.ProductSubcategoryKey\n",
        "left join DimProductCategory PC on PSC.ProductCategoryKey=PC.ProductCategoryKey;\n",
        "\"\"\"\n",
        "result = connection.execute(query)\n",
        "rows = result.fetchall()\n",
        "df = pd.DataFrame(rows, columns=result.keys())\n",
        "df.head()"
      ]
    },
    {
      "cell_type": "code",
      "execution_count": null,
      "id": "e9d3c4e3",
      "metadata": {
        "ExecuteTime": {
          "end_time": "2023-08-04T13:02:51.143348Z",
          "start_time": "2023-08-04T13:02:51.074088Z"
        },
        "id": "e9d3c4e3",
        "outputId": "a67e6a10-c4a9-467d-be30-97325270af1f"
      },
      "outputs": [
        {
          "data": {
            "text/html": [
              "<div>\n",
              "<style scoped>\n",
              "    .dataframe tbody tr th:only-of-type {\n",
              "        vertical-align: middle;\n",
              "    }\n",
              "\n",
              "    .dataframe tbody tr th {\n",
              "        vertical-align: top;\n",
              "    }\n",
              "\n",
              "    .dataframe thead th {\n",
              "        text-align: right;\n",
              "    }\n",
              "</style>\n",
              "<table border=\"1\" class=\"dataframe\">\n",
              "  <thead>\n",
              "    <tr style=\"text-align: right;\">\n",
              "      <th></th>\n",
              "      <th>ProductKey</th>\n",
              "      <th>EnglishProductName</th>\n",
              "      <th>EnglishProductCategoryName</th>\n",
              "      <th>EnglishProductSubcategoryName</th>\n",
              "    </tr>\n",
              "  </thead>\n",
              "  <tbody>\n",
              "    <tr>\n",
              "      <th>0</th>\n",
              "      <td>1</td>\n",
              "      <td>Adjustable Race</td>\n",
              "      <td>None</td>\n",
              "      <td>None</td>\n",
              "    </tr>\n",
              "    <tr>\n",
              "      <th>1</th>\n",
              "      <td>2</td>\n",
              "      <td>Bearing Ball</td>\n",
              "      <td>None</td>\n",
              "      <td>None</td>\n",
              "    </tr>\n",
              "    <tr>\n",
              "      <th>2</th>\n",
              "      <td>3</td>\n",
              "      <td>BB Ball Bearing</td>\n",
              "      <td>None</td>\n",
              "      <td>None</td>\n",
              "    </tr>\n",
              "    <tr>\n",
              "      <th>3</th>\n",
              "      <td>4</td>\n",
              "      <td>Headset Ball Bearings</td>\n",
              "      <td>None</td>\n",
              "      <td>None</td>\n",
              "    </tr>\n",
              "    <tr>\n",
              "      <th>4</th>\n",
              "      <td>5</td>\n",
              "      <td>Blade</td>\n",
              "      <td>None</td>\n",
              "      <td>None</td>\n",
              "    </tr>\n",
              "    <tr>\n",
              "      <th>...</th>\n",
              "      <td>...</td>\n",
              "      <td>...</td>\n",
              "      <td>...</td>\n",
              "      <td>...</td>\n",
              "    </tr>\n",
              "    <tr>\n",
              "      <th>601</th>\n",
              "      <td>602</td>\n",
              "      <td>ML Bottom Bracket</td>\n",
              "      <td>Components</td>\n",
              "      <td>Bottom Brackets</td>\n",
              "    </tr>\n",
              "    <tr>\n",
              "      <th>602</th>\n",
              "      <td>603</td>\n",
              "      <td>HL Bottom Bracket</td>\n",
              "      <td>Components</td>\n",
              "      <td>Bottom Brackets</td>\n",
              "    </tr>\n",
              "    <tr>\n",
              "      <th>603</th>\n",
              "      <td>604</td>\n",
              "      <td>Road-750 Black, 44</td>\n",
              "      <td>Bikes</td>\n",
              "      <td>Road Bikes</td>\n",
              "    </tr>\n",
              "    <tr>\n",
              "      <th>604</th>\n",
              "      <td>605</td>\n",
              "      <td>Road-750 Black, 48</td>\n",
              "      <td>Bikes</td>\n",
              "      <td>Road Bikes</td>\n",
              "    </tr>\n",
              "    <tr>\n",
              "      <th>605</th>\n",
              "      <td>606</td>\n",
              "      <td>Road-750 Black, 52</td>\n",
              "      <td>Bikes</td>\n",
              "      <td>Road Bikes</td>\n",
              "    </tr>\n",
              "  </tbody>\n",
              "</table>\n",
              "<p>606 rows × 4 columns</p>\n",
              "</div>"
            ],
            "text/plain": [
              "     ProductKey     EnglishProductName EnglishProductCategoryName  \\\n",
              "0             1        Adjustable Race                       None   \n",
              "1             2           Bearing Ball                       None   \n",
              "2             3        BB Ball Bearing                       None   \n",
              "3             4  Headset Ball Bearings                       None   \n",
              "4             5                  Blade                       None   \n",
              "..          ...                    ...                        ...   \n",
              "601         602      ML Bottom Bracket                 Components   \n",
              "602         603      HL Bottom Bracket                 Components   \n",
              "603         604     Road-750 Black, 44                      Bikes   \n",
              "604         605     Road-750 Black, 48                      Bikes   \n",
              "605         606     Road-750 Black, 52                      Bikes   \n",
              "\n",
              "    EnglishProductSubcategoryName  \n",
              "0                            None  \n",
              "1                            None  \n",
              "2                            None  \n",
              "3                            None  \n",
              "4                            None  \n",
              "..                            ...  \n",
              "601               Bottom Brackets  \n",
              "602               Bottom Brackets  \n",
              "603                    Road Bikes  \n",
              "604                    Road Bikes  \n",
              "605                    Road Bikes  \n",
              "\n",
              "[606 rows x 4 columns]"
            ]
          },
          "execution_count": 43,
          "metadata": {},
          "output_type": "execute_result"
        }
      ],
      "source": [
        "df"
      ]
    },
    {
      "cell_type": "markdown",
      "id": "f1b61685",
      "metadata": {
        "id": "f1b61685"
      },
      "source": [
        "### Calculate the customer churn rate for the year 2014. Churn rate is the percentage of customers who made a purchase in the previous year but didn't make any purchases in the current year."
      ]
    },
    {
      "cell_type": "code",
      "execution_count": null,
      "id": "d87ee3aa",
      "metadata": {
        "ExecuteTime": {
          "end_time": "2023-08-05T04:05:01.976626Z",
          "start_time": "2023-08-05T04:05:01.751716Z"
        },
        "id": "d87ee3aa",
        "outputId": "0617eb05-025d-453f-a8a2-eb58b346c24e"
      },
      "outputs": [
        {
          "name": "stdout",
          "output_type": "stream",
          "text": [
            "['CustomerKey', 'GeographyKey', 'CustomerAlternateKey', 'Title', 'FirstName', 'MiddleName', 'LastName', 'NameStyle', 'BirthDate', 'MaritalStatus', 'Suffix', 'Gender', 'EmailAddress', 'YearlyIncome', 'TotalChildren', 'NumberChildrenAtHome', 'EnglishEducation', 'SpanishEducation', 'FrenchEducation', 'EnglishOccupation', 'SpanishOccupation', 'FrenchOccupation', 'HouseOwnerFlag', 'NumberCarsOwned', 'AddressLine1', 'AddressLine2', 'Phone', 'DateFirstPurchase', 'CommuteDistance']\n"
          ]
        }
      ],
      "source": [
        "result = connection.execute('select * from DimCustomer')\n",
        "print(result.keys())"
      ]
    },
    {
      "cell_type": "code",
      "execution_count": null,
      "id": "e6deb95a",
      "metadata": {
        "ExecuteTime": {
          "end_time": "2023-08-05T04:08:47.491652Z",
          "start_time": "2023-08-05T04:08:47.348968Z"
        },
        "id": "e6deb95a",
        "outputId": "4ad1706b-bead-4fcc-efe4-eba3d7565b24"
      },
      "outputs": [
        {
          "name": "stdout",
          "output_type": "stream",
          "text": [
            "['DateKey', 'FullDateAlternateKey', 'DayNumberOfWeek', 'EnglishDayNameOfWeek', 'SpanishDayNameOfWeek', 'FrenchDayNameOfWeek', 'DayNumberOfMonth', 'DayNumberOfYear', 'WeekNumberOfYear', 'EnglishMonthName', 'SpanishMonthName', 'FrenchMonthName', 'MonthNumberOfYear', 'CalendarQuarter', 'CalendarYear', 'CalendarSemester', 'FiscalQuarter', 'FiscalYear', 'FiscalSemester']\n"
          ]
        }
      ],
      "source": [
        "result = connection.execute('select * from DimDate')\n",
        "print(result.keys())"
      ]
    },
    {
      "cell_type": "code",
      "execution_count": null,
      "id": "d40c5ed0",
      "metadata": {
        "ExecuteTime": {
          "end_time": "2023-08-05T04:09:25.683011Z",
          "start_time": "2023-08-05T04:09:24.771789Z"
        },
        "id": "d40c5ed0",
        "outputId": "943fcc6f-a3f8-4548-a59a-1561dc80f65a"
      },
      "outputs": [
        {
          "name": "stdout",
          "output_type": "stream",
          "text": [
            "['ProductKey', 'OrderDateKey', 'DueDateKey', 'ShipDateKey', 'CustomerKey', 'PromotionKey', 'CurrencyKey', 'SalesTerritoryKey', 'SalesOrderNumber', 'SalesOrderLineNumber', 'RevisionNumber', 'OrderQuantity', 'UnitPrice', 'ExtendedAmount', 'UnitPriceDiscountPct', 'DiscountAmount', 'ProductStandardCost', 'TotalProductCost', 'SalesAmount', 'TaxAmt', 'Freight', 'CarrierTrackingNumber', 'CustomerPONumber', 'OrderDate', 'DueDate', 'ShipDate']\n"
          ]
        }
      ],
      "source": [
        "result = connection.execute('select * from FactInternetSales')\n",
        "print(result.keys())"
      ]
    },
    {
      "cell_type": "code",
      "execution_count": null,
      "id": "774fe3bf",
      "metadata": {
        "ExecuteTime": {
          "end_time": "2023-08-05T07:30:46.860328Z",
          "start_time": "2023-08-05T07:30:46.813318Z"
        },
        "id": "774fe3bf",
        "outputId": "513bd706-75f6-4736-8092-c3b617e0e05c"
      },
      "outputs": [
        {
          "data": {
            "text/html": [
              "<div>\n",
              "<style scoped>\n",
              "    .dataframe tbody tr th:only-of-type {\n",
              "        vertical-align: middle;\n",
              "    }\n",
              "\n",
              "    .dataframe tbody tr th {\n",
              "        vertical-align: top;\n",
              "    }\n",
              "\n",
              "    .dataframe thead th {\n",
              "        text-align: right;\n",
              "    }\n",
              "</style>\n",
              "<table border=\"1\" class=\"dataframe\">\n",
              "  <thead>\n",
              "    <tr style=\"text-align: right;\">\n",
              "      <th></th>\n",
              "      <th>CustomerKey</th>\n",
              "      <th>CustomerKey</th>\n",
              "    </tr>\n",
              "  </thead>\n",
              "  <tbody>\n",
              "  </tbody>\n",
              "</table>\n",
              "</div>"
            ],
            "text/plain": [
              "Empty DataFrame\n",
              "Columns: [CustomerKey, CustomerKey]\n",
              "Index: []"
            ]
          },
          "execution_count": 118,
          "metadata": {},
          "output_type": "execute_result"
        }
      ],
      "source": [
        "query = '''\n",
        "    SELECT Customer.CustomerKey, SalesCustomer.CustomerKey\n",
        "    FROM DimCustomer Customer\n",
        "    LEFT JOIN (\n",
        "        select distinct CustomerKey\n",
        "        from FactInternetSales Sales\n",
        "        join DimDate Date on Sales.OrderDateKey=Date.DateKey\n",
        "        where Date.CalendarYear=2014\n",
        "    ) as SalesCustomer\n",
        "    on Customer.CustomerKey = SalesCustomer.CustomerKey\n",
        "    where Customer.CustomerKey is Null\n",
        "\n",
        "'''\n",
        "result = connection.execute(query)\n",
        "rows = result.fetchall()\n",
        "df = pd.DataFrame(rows, columns=result.keys())\n",
        "df"
      ]
    },
    {
      "cell_type": "code",
      "execution_count": null,
      "id": "c7f36a08",
      "metadata": {
        "ExecuteTime": {
          "end_time": "2023-08-05T05:11:11.621126Z",
          "start_time": "2023-08-05T05:11:11.528114Z"
        },
        "id": "c7f36a08",
        "outputId": "e99e59de-88ba-4c60-f97d-ee845fcc2a18"
      },
      "outputs": [
        {
          "data": {
            "text/html": [
              "<div>\n",
              "<style scoped>\n",
              "    .dataframe tbody tr th:only-of-type {\n",
              "        vertical-align: middle;\n",
              "    }\n",
              "\n",
              "    .dataframe tbody tr th {\n",
              "        vertical-align: top;\n",
              "    }\n",
              "\n",
              "    .dataframe thead th {\n",
              "        text-align: right;\n",
              "    }\n",
              "</style>\n",
              "<table border=\"1\" class=\"dataframe\">\n",
              "  <thead>\n",
              "    <tr style=\"text-align: right;\">\n",
              "      <th></th>\n",
              "      <th>CustomerKey</th>\n",
              "    </tr>\n",
              "  </thead>\n",
              "  <tbody>\n",
              "    <tr>\n",
              "      <th>0</th>\n",
              "      <td>15652</td>\n",
              "    </tr>\n",
              "    <tr>\n",
              "      <th>1</th>\n",
              "      <td>14324</td>\n",
              "    </tr>\n",
              "    <tr>\n",
              "      <th>2</th>\n",
              "      <td>18569</td>\n",
              "    </tr>\n",
              "    <tr>\n",
              "      <th>3</th>\n",
              "      <td>27059</td>\n",
              "    </tr>\n",
              "    <tr>\n",
              "      <th>4</th>\n",
              "      <td>22814</td>\n",
              "    </tr>\n",
              "    <tr>\n",
              "      <th>...</th>\n",
              "      <td>...</td>\n",
              "    </tr>\n",
              "    <tr>\n",
              "      <th>17973</th>\n",
              "      <td>27050</td>\n",
              "    </tr>\n",
              "    <tr>\n",
              "      <th>17974</th>\n",
              "      <td>14066</td>\n",
              "    </tr>\n",
              "    <tr>\n",
              "      <th>17975</th>\n",
              "      <td>18935</td>\n",
              "    </tr>\n",
              "    <tr>\n",
              "      <th>17976</th>\n",
              "      <td>12984</td>\n",
              "    </tr>\n",
              "    <tr>\n",
              "      <th>17977</th>\n",
              "      <td>29214</td>\n",
              "    </tr>\n",
              "  </tbody>\n",
              "</table>\n",
              "<p>17978 rows × 1 columns</p>\n",
              "</div>"
            ],
            "text/plain": [
              "       CustomerKey\n",
              "0            15652\n",
              "1            14324\n",
              "2            18569\n",
              "3            27059\n",
              "4            22814\n",
              "...            ...\n",
              "17973        27050\n",
              "17974        14066\n",
              "17975        18935\n",
              "17976        12984\n",
              "17977        29214\n",
              "\n",
              "[17978 rows x 1 columns]"
            ]
          },
          "execution_count": 104,
          "metadata": {},
          "output_type": "execute_result"
        }
      ],
      "source": [
        "query = '''\n",
        "        select distinct CustomerKey\n",
        "        from FactInternetSales Sales\n",
        "        join DimDate Date on Sales.OrderDateKey=Date.DateKey\n",
        "        where Date.CalendarYear<2014\n",
        "'''\n",
        "result = connection.execute(query)\n",
        "rows = result.fetchall()\n",
        "df = pd.DataFrame(rows, columns=result.keys())\n",
        "df"
      ]
    },
    {
      "cell_type": "code",
      "execution_count": null,
      "id": "9190dbb6",
      "metadata": {
        "ExecuteTime": {
          "end_time": "2023-08-05T05:21:09.856416Z",
          "start_time": "2023-08-05T05:21:09.765803Z"
        },
        "id": "9190dbb6",
        "outputId": "d6eb720f-f4f7-43ba-955a-1f4f3d6b9fde"
      },
      "outputs": [
        {
          "data": {
            "text/html": [
              "<div>\n",
              "<style scoped>\n",
              "    .dataframe tbody tr th:only-of-type {\n",
              "        vertical-align: middle;\n",
              "    }\n",
              "\n",
              "    .dataframe tbody tr th {\n",
              "        vertical-align: top;\n",
              "    }\n",
              "\n",
              "    .dataframe thead th {\n",
              "        text-align: right;\n",
              "    }\n",
              "</style>\n",
              "<table border=\"1\" class=\"dataframe\">\n",
              "  <thead>\n",
              "    <tr style=\"text-align: right;\">\n",
              "      <th></th>\n",
              "      <th>CustomerKey</th>\n",
              "    </tr>\n",
              "  </thead>\n",
              "  <tbody>\n",
              "    <tr>\n",
              "      <th>0</th>\n",
              "      <td>11000</td>\n",
              "    </tr>\n",
              "    <tr>\n",
              "      <th>1</th>\n",
              "      <td>11001</td>\n",
              "    </tr>\n",
              "    <tr>\n",
              "      <th>2</th>\n",
              "      <td>11002</td>\n",
              "    </tr>\n",
              "    <tr>\n",
              "      <th>3</th>\n",
              "      <td>11003</td>\n",
              "    </tr>\n",
              "    <tr>\n",
              "      <th>4</th>\n",
              "      <td>11004</td>\n",
              "    </tr>\n",
              "    <tr>\n",
              "      <th>...</th>\n",
              "      <td>...</td>\n",
              "    </tr>\n",
              "    <tr>\n",
              "      <th>17645</th>\n",
              "      <td>29479</td>\n",
              "    </tr>\n",
              "    <tr>\n",
              "      <th>17646</th>\n",
              "      <td>29480</td>\n",
              "    </tr>\n",
              "    <tr>\n",
              "      <th>17647</th>\n",
              "      <td>29481</td>\n",
              "    </tr>\n",
              "    <tr>\n",
              "      <th>17648</th>\n",
              "      <td>29482</td>\n",
              "    </tr>\n",
              "    <tr>\n",
              "      <th>17649</th>\n",
              "      <td>29483</td>\n",
              "    </tr>\n",
              "  </tbody>\n",
              "</table>\n",
              "<p>17650 rows × 1 columns</p>\n",
              "</div>"
            ],
            "text/plain": [
              "       CustomerKey\n",
              "0            11000\n",
              "1            11001\n",
              "2            11002\n",
              "3            11003\n",
              "4            11004\n",
              "...            ...\n",
              "17645        29479\n",
              "17646        29480\n",
              "17647        29481\n",
              "17648        29482\n",
              "17649        29483\n",
              "\n",
              "[17650 rows x 1 columns]"
            ]
          },
          "execution_count": 108,
          "metadata": {},
          "output_type": "execute_result"
        }
      ],
      "source": [
        "query = '''\n",
        "    SELECT distinct Customer.CustomerKey\n",
        "    FROM DimCustomer Customer\n",
        "    LEFT JOIN (\n",
        "        select distinct CustomerKey\n",
        "        from FactInternetSales Sales\n",
        "        join DimDate Date on Sales.OrderDateKey=Date.DateKey\n",
        "        where Date.CalendarYear=2014\n",
        "    ) as SalesCustomer\n",
        "    on Customer.CustomerKey = SalesCustomer.CustomerKey\n",
        "    where SalesCustomer.CustomerKey is Null\n",
        "'''\n",
        "result = connection.execute(query)\n",
        "rows = result.fetchall()\n",
        "df = pd.DataFrame(rows, columns=result.keys())\n",
        "df"
      ]
    },
    {
      "cell_type": "code",
      "execution_count": null,
      "id": "e5c136ac",
      "metadata": {
        "ExecuteTime": {
          "end_time": "2023-08-05T05:27:20.265313Z",
          "start_time": "2023-08-05T05:27:20.158259Z"
        },
        "id": "e5c136ac",
        "outputId": "90e06c3b-cc0d-4f5e-a387-4219680f943e"
      },
      "outputs": [
        {
          "data": {
            "text/html": [
              "<div>\n",
              "<style scoped>\n",
              "    .dataframe tbody tr th:only-of-type {\n",
              "        vertical-align: middle;\n",
              "    }\n",
              "\n",
              "    .dataframe tbody tr th {\n",
              "        vertical-align: top;\n",
              "    }\n",
              "\n",
              "    .dataframe thead th {\n",
              "        text-align: right;\n",
              "    }\n",
              "</style>\n",
              "<table border=\"1\" class=\"dataframe\">\n",
              "  <thead>\n",
              "    <tr style=\"text-align: right;\">\n",
              "      <th></th>\n",
              "      <th>ChurnedCustomers</th>\n",
              "      <th>TotalCustomers</th>\n",
              "      <th>ChurnRate</th>\n",
              "    </tr>\n",
              "  </thead>\n",
              "  <tbody>\n",
              "    <tr>\n",
              "      <th>0</th>\n",
              "      <td>17650</td>\n",
              "      <td>17978</td>\n",
              "      <td>98.175547891867</td>\n",
              "    </tr>\n",
              "  </tbody>\n",
              "</table>\n",
              "</div>"
            ],
            "text/plain": [
              "   ChurnedCustomers  TotalCustomers        ChurnRate\n",
              "0             17650           17978  98.175547891867"
            ]
          },
          "execution_count": 115,
          "metadata": {},
          "output_type": "execute_result"
        }
      ],
      "source": [
        "import pandas as pd\n",
        "\n",
        "query = '''\n",
        "WITH CustomersWhoPurchasedBefore2014 AS (\n",
        "    SELECT DISTINCT CustomerKey\n",
        "    FROM FactInternetSales Sales\n",
        "    JOIN DimDate Date ON Sales.OrderDateKey = Date.DateKey\n",
        "    WHERE Date.CalendarYear < 2014\n",
        "),\n",
        "\n",
        "CustomersWhoDidNotPurchaseIn2014 AS (\n",
        "    SELECT DISTINCT Customer.CustomerKey\n",
        "    FROM DimCustomer Customer\n",
        "    LEFT JOIN (\n",
        "        SELECT DISTINCT CustomerKey\n",
        "        FROM FactInternetSales Sales\n",
        "        JOIN DimDate Date ON Sales.OrderDateKey = Date.DateKey\n",
        "        WHERE Date.CalendarYear = 2014\n",
        "    ) AS SalesCustomer ON Customer.CustomerKey = SalesCustomer.CustomerKey\n",
        "    WHERE SalesCustomer.CustomerKey IS NULL\n",
        ")\n",
        "\n",
        "SELECT\n",
        "    COUNT(DISTINCT cd.CustomerKey) AS ChurnedCustomers,\n",
        "    COUNT(DISTINCT cp.CustomerKey) AS TotalCustomers,\n",
        "    (COUNT(DISTINCT cd.CustomerKey) * 100.0) / COUNT(DISTINCT cp.CustomerKey) AS ChurnRate\n",
        "FROM CustomersWhoPurchasedBefore2014 CP\n",
        "LEFT JOIN CustomersWhoDidNotPurchaseIn2014 CD ON CP.CustomerKey = CD.CustomerKey;\n",
        "'''\n",
        "\n",
        "# Assuming you have a valid database connection named 'connection'\n",
        "result = connection.execute(query)\n",
        "rows = result.fetchall()\n",
        "df = pd.DataFrame(rows, columns=result.keys())\n",
        "df\n"
      ]
    }
  ],
  "metadata": {
    "kernelspec": {
      "display_name": "Python 3 (ipykernel)",
      "language": "python",
      "name": "python3"
    },
    "language_info": {
      "codemirror_mode": {
        "name": "ipython",
        "version": 3
      },
      "file_extension": ".py",
      "mimetype": "text/x-python",
      "name": "python",
      "nbconvert_exporter": "python",
      "pygments_lexer": "ipython3",
      "version": "3.8.10"
    },
    "toc": {
      "base_numbering": 1,
      "nav_menu": {},
      "number_sections": true,
      "sideBar": true,
      "skip_h1_title": false,
      "title_cell": "Table of Contents",
      "title_sidebar": "Contents",
      "toc_cell": false,
      "toc_position": {},
      "toc_section_display": true,
      "toc_window_display": false
    },
    "varInspector": {
      "cols": {
        "lenName": 16,
        "lenType": 16,
        "lenVar": 40
      },
      "kernels_config": {
        "python": {
          "delete_cmd_postfix": "",
          "delete_cmd_prefix": "del ",
          "library": "var_list.py",
          "varRefreshCmd": "print(var_dic_list())"
        },
        "r": {
          "delete_cmd_postfix": ") ",
          "delete_cmd_prefix": "rm(",
          "library": "var_list.r",
          "varRefreshCmd": "cat(var_dic_list()) "
        }
      },
      "types_to_exclude": [
        "module",
        "function",
        "builtin_function_or_method",
        "instance",
        "_Feature"
      ],
      "window_display": false
    },
    "colab": {
      "provenance": []
    }
  },
  "nbformat": 4,
  "nbformat_minor": 5
}